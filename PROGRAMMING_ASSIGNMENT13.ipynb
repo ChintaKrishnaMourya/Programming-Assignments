{
 "cells": [
  {
   "attachments": {},
   "cell_type": "markdown",
   "metadata": {},
   "source": [
    "### Question 1"
   ]
  },
  {
   "cell_type": "code",
   "execution_count": null,
   "metadata": {},
   "outputs": [],
   "source": [
    "seq = map(lambda D:int((2*50*D/30)**0.5),map(float,input(\"comma seperated sequence\").split(\",\")))\n",
    "print(*seq,sep=\",\")"
   ]
  },
  {
   "attachments": {},
   "cell_type": "markdown",
   "metadata": {},
   "source": [
    "### Question 2"
   ]
  },
  {
   "cell_type": "code",
   "execution_count": null,
   "metadata": {},
   "outputs": [],
   "source": [
    "def generate(X,Y):\n",
    "    print([[i*j for j in range(Y)] for i in range(X)])\n",
    "\n",
    "X,Y = list(map(int,input().split(\",\")))\n",
    "generate(X,Y)"
   ]
  },
  {
   "attachments": {},
   "cell_type": "markdown",
   "metadata": {},
   "source": [
    "### Question 3"
   ]
  },
  {
   "cell_type": "code",
   "execution_count": null,
   "metadata": {},
   "outputs": [],
   "source": [
    "bagofwords=input(\"comma seperated words:\").split(\",\")\n",
    "bagofwords.sort()\n",
    "print(*bagofwords,sep=\",\")"
   ]
  },
  {
   "attachments": {},
   "cell_type": "markdown",
   "metadata": {},
   "source": [
    "### Question 4"
   ]
  },
  {
   "cell_type": "code",
   "execution_count": null,
   "metadata": {},
   "outputs": [],
   "source": [
    "bagofwords = input(\"space seperated words:\").split()\n",
    "bagofwords = set(bagofwords)\n",
    "bagofwords = sorted(bagofwords)\n",
    "print(*bagofwords,sep=\" \")"
   ]
  },
  {
   "attachments": {},
   "cell_type": "markdown",
   "metadata": {},
   "source": [
    "### Question 5"
   ]
  },
  {
   "cell_type": "code",
   "execution_count": null,
   "metadata": {},
   "outputs": [],
   "source": [
    "sentence = input()\n",
    "DIGITS = 0\n",
    "LETTERS = 0\n",
    "\n",
    "for i in sentence:\n",
    "    DIGITS+=i.isdigit()\n",
    "    LETTERS+=i.isalpha()\n",
    "\n",
    "print(f\"LETTERS {LETTERS}\")\n",
    "print(f\"DIGITS {DIGITS}\")"
   ]
  },
  {
   "attachments": {},
   "cell_type": "markdown",
   "metadata": {},
   "source": [
    "### Question 6"
   ]
  },
  {
   "cell_type": "code",
   "execution_count": null,
   "metadata": {},
   "outputs": [],
   "source": [
    "def validate(password:str)->bool:\n",
    "\n",
    "    '''\n",
    "    1.  6<=len(password)<=12\n",
    "    2.  atleast 1 character from [a-z][A-Z][0-9][$#@]\n",
    "    '''\n",
    "\n",
    "    n=len(password)\n",
    "    if n<6 or n>12:return False\n",
    "\n",
    "    type1=False #[a-z]\n",
    "    type2=False #[A-Z]\n",
    "    type3=False #[0-9]\n",
    "    type4=False #[$@#]\n",
    "\n",
    "    for char in password:\n",
    "        if not char.isalnum():\n",
    "            if not char in \"$#@\":return False\n",
    "            type4=True\n",
    "        type1 = type1 or char.islower()\n",
    "        type2 = type2 or char.isupper()\n",
    "        type3 = type3 or char.isdigit()\n",
    "    return type1 and type2 and type3 and type4\n",
    "\n",
    "def check_passwords(passwords:list[str])->None:\n",
    "    print(*filter(validate,passwords),sep=\",\")\n",
    "\n",
    "passwords = input(\"comma seperated passwords :\").split(\",\")\n",
    "check_passwords(passwords)"
   ]
  }
 ],
 "metadata": {
  "kernelspec": {
   "display_name": "Python 3",
   "language": "python",
   "name": "python3"
  },
  "language_info": {
   "codemirror_mode": {
    "name": "ipython",
    "version": 3
   },
   "file_extension": ".py",
   "mimetype": "text/x-python",
   "name": "python",
   "nbconvert_exporter": "python",
   "pygments_lexer": "ipython3",
   "version": "3.11.1 (tags/v3.11.1:a7a450f, Dec  6 2022, 19:58:39) [MSC v.1934 64 bit (AMD64)]"
  },
  "orig_nbformat": 4,
  "vscode": {
   "interpreter": {
    "hash": "c37f8387768dbf3986146d42fe4d96fc9b384a0da7362fe905d7d4ce093495c8"
   }
  }
 },
 "nbformat": 4,
 "nbformat_minor": 2
}
