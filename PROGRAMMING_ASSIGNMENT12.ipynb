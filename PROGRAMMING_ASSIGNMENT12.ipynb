{
 "cells": [
  {
   "attachments": {},
   "cell_type": "markdown",
   "metadata": {},
   "source": [
    "1. Write a Python program to Extract Unique values dictionary values?\n",
    "2. Write a Python program to find the sum of all items in a dictionary?\n",
    "3. Write a Python program to Merging two Dictionaries?\n",
    "4. Write a Python program to convert key-values list to flat dictionary?\n",
    "5. Write a Python program to insertion at the beginning in OrderedDict?\n",
    "6. Write a Python program to check order of character in string using OrderedDict()?\n",
    "7. Write a Python program to sort Python Dictionaries by Key or Value?"
   ]
  },
  {
   "cell_type": "code",
   "execution_count": 5,
   "metadata": {},
   "outputs": [
    {
     "name": "stdout",
     "output_type": "stream",
     "text": [
      "Given Dictionary : {'Apple': [10, 20, 30], 'Orange': [20, 46, 94, 34], 'Mango': [24, 76, 20, 43], 'Grape': [10, 78, 34, 67]}\n",
      "34 67 10 43 76 46 78 20 30 24 94 "
     ]
    }
   ],
   "source": [
    "# Python program to Extract Unique values dictionary values\n",
    "dic = {\"Apple\" : [10,20,30],\n",
    "    \"Orange\": [20,46,94,34],\n",
    "    \"Mango\": [24,76,20,43],\n",
    "    \"Grape\": [10,78,34,67]}\n",
    "\n",
    "unique = []\n",
    "print(\"Given Dictionary :\", dic)\n",
    "\n",
    "for i in dic.values():\n",
    "    for j in i:\n",
    "        unique.append(j)\n",
    "for i in list(set(unique)):\n",
    "    print(i,end = \" \")\n",
    "\n"
   ]
  },
  {
   "cell_type": "code",
   "execution_count": 7,
   "metadata": {},
   "outputs": [
    {
     "name": "stdout",
     "output_type": "stream",
     "text": [
      "Sum of items in the dictionary : 666\n"
     ]
    }
   ],
   "source": [
    "#Python program to find the sum of all items in a dictionary\n",
    "\n",
    "dic2 = {\"A\": 111, \"B\": 222, \"C\":333}\n",
    "sum = 0\n",
    "for i in dic2:\n",
    "    sum = sum+dic2[i]\n",
    "print(\"Sum of items in the dictionary :\",sum)"
   ]
  },
  {
   "cell_type": "code",
   "execution_count": 12,
   "metadata": {},
   "outputs": [
    {
     "name": "stdout",
     "output_type": "stream",
     "text": [
      "{'A': 1, 'B': 2, 'C': 3, 'D': 4}\n"
     ]
    }
   ],
   "source": [
    "#Python program to Merging two Dictionaries\n",
    "dic3 = {\"A\":1,\"B\":2}\n",
    "dic4 = {\"C\":3,\"D\":4}\n",
    "dic3.update(dic4)\n",
    "print(dic3)"
   ]
  },
  {
   "cell_type": "code",
   "execution_count": 23,
   "metadata": {},
   "outputs": [
    {
     "name": "stdout",
     "output_type": "stream",
     "text": [
      "{'A': 1, 'B': 2, 'C': 3, 'D': 4}\n"
     ]
    }
   ],
   "source": [
    "#Python program to convert key-values list to flat dictionary\n",
    "keys = [\"A\",\"B\",\"C\",\"D\"]\n",
    "values = [1,2,3,4]\n",
    "list1 = zip(keys,values)\n",
    "dict5 = dict(list1)\n",
    "print(dict5)"
   ]
  },
  {
   "cell_type": "code",
   "execution_count": 1,
   "metadata": {},
   "outputs": [
    {
     "name": "stdout",
     "output_type": "stream",
     "text": [
      "OrderedDict([('p', 0), ('A', 1), ('B', 2), ('C', 3), ('D', 4)])\n"
     ]
    }
   ],
   "source": [
    "#Python program to insertion at the beginning in OrderedDict\n",
    "from collections import OrderedDict\n",
    "\n",
    "def insert_at_beginning(Dict:OrderedDict,key:any,val:any)->None:\n",
    "    Dict[key]=val\n",
    "    Dict.move_to_end(key,last=False)\n",
    "\n",
    "#test case\n",
    "dict5 = OrderedDict({'A': 1, 'B': 2, 'C': 3, 'D': 4})\n",
    "insert_at_beginning(dict5,\"p\",0)\n",
    "print(dict5)\n"
   ]
  },
  {
   "cell_type": "code",
   "execution_count": 74,
   "metadata": {},
   "outputs": [
    {
     "data": {
      "text/plain": [
       "False"
      ]
     },
     "execution_count": 74,
     "metadata": {},
     "output_type": "execute_result"
    }
   ],
   "source": [
    "#Python program to check order of character in string using OrderedDict()\n",
    "from collections import OrderedDict\n",
    "\n",
    "def check_order(string:str,pattern:str)->bool:\n",
    "    temp = OrderedDict.fromkeys(string)\n",
    "    p=0\n",
    "    for c in temp:\n",
    "        if c==pattern[p]:\n",
    "            p+=1\n",
    "        if p == len(pattern): return True\n",
    "    return False\n",
    "\n",
    "## test case\n",
    "string = \"mourya\"\n",
    "pattern = \"my\"\n",
    "check_order(string,pattern)  "
   ]
  },
  {
   "cell_type": "code",
   "execution_count": 78,
   "metadata": {},
   "outputs": [
    {
     "name": "stdout",
     "output_type": "stream",
     "text": [
      "sorted by Keys   : {'A': 1, 'B': 3, 'C': 9, 'D': 6}\n",
      "sorted by Values : {'A': 1, 'B': 3, 'D': 6, 'C': 9}\n"
     ]
    }
   ],
   "source": [
    "#Python program to sort Python Dictionaries by Key or Value\n",
    "def sort_by_key(Dict:dict,reverse:bool=False)->dict:\n",
    "    temp = list(Dict.items())\n",
    "    temp.sort(key=lambda x:x[0],reverse=reverse)\n",
    "    return dict(temp)\n",
    "\n",
    "def sort_by_value(Dict:dict,reverse:bool=False)->dict:\n",
    "    temp = list(Dict.items())\n",
    "    temp.sort(key=lambda x:x[1],reverse=reverse)\n",
    "    return dict(temp)\n",
    "\n",
    "## test case\n",
    "Dict = {\"B\": 3,\"A\":1,\"C\": 9,\"D\": 6}\n",
    "print(f\"sorted by Keys   : {sort_by_key(Dict)}\")\n",
    "print(f\"sorted by Values : {sort_by_value(Dict)}\")"
   ]
  },
  {
   "cell_type": "code",
   "execution_count": null,
   "metadata": {},
   "outputs": [],
   "source": []
  }
 ],
 "metadata": {
  "kernelspec": {
   "display_name": "Python 3",
   "language": "python",
   "name": "python3"
  },
  "language_info": {
   "codemirror_mode": {
    "name": "ipython",
    "version": 3
   },
   "file_extension": ".py",
   "mimetype": "text/x-python",
   "name": "python",
   "nbconvert_exporter": "python",
   "pygments_lexer": "ipython3",
   "version": "3.10.10"
  },
  "orig_nbformat": 4,
  "vscode": {
   "interpreter": {
    "hash": "40590ebb26e95edc6c1f3a8a7137aad132b51444b5d516fe05a60311a56b75f0"
   }
  }
 },
 "nbformat": 4,
 "nbformat_minor": 2
}
