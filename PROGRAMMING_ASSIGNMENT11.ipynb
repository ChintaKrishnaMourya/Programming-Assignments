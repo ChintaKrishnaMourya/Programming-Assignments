{
 "cells": [
  {
   "attachments": {},
   "cell_type": "markdown",
   "metadata": {},
   "source": [
    "1. Write a Python program to find words which are greater than given length k?\n",
    "2. Write a Python program for removing i-th character from a string?\n",
    "3. Write a Python program to split and join a string?\n",
    "4. Write a Python to check if a given string is binary string or not?\n",
    "5. Write a Python program to find uncommon words from two Strings?\n",
    "6. Write a Python to find all duplicate characters in string?\n",
    "7. Write a Python Program to check if a string contains any special character?"
   ]
  },
  {
   "cell_type": "code",
   "execution_count": 8,
   "metadata": {},
   "outputs": [
    {
     "name": "stdout",
     "output_type": "stream",
     "text": [
      "Python, program, find, words, which, greater, than, given, length, "
     ]
    }
   ],
   "source": [
    "#Python program to find words which are greater than given length k\n",
    "\n",
    "string = \"Python program to find words which are greater than given length k\"\n",
    "k = 3\n",
    "for i in string.split():\n",
    "    if len(i)>k:\n",
    "        print(i,end=\", \")"
   ]
  },
  {
   "cell_type": "code",
   "execution_count": 16,
   "metadata": {},
   "outputs": [
    {
     "data": {
      "text/plain": [
       "' Pyhon program for removing i-th character from a string'"
      ]
     },
     "execution_count": 16,
     "metadata": {},
     "output_type": "execute_result"
    }
   ],
   "source": [
    "#Python program for removing i-th character from a string\n",
    "string1 = \"Python program for removing i-th character from a string\"\n",
    "n =2\n",
    "string2 = \" \"\n",
    "for i in range(len(string1)):\n",
    "    if i!=n:\n",
    "        string2 = string2+string1[i]\n",
    "string2\n"
   ]
  },
  {
   "cell_type": "code",
   "execution_count": 25,
   "metadata": {},
   "outputs": [
    {
     "name": "stdout",
     "output_type": "stream",
     "text": [
      "After splitting the string :  ['Python', 'program', 'to', 'split', 'and', 'join', 'a', 'string']\n",
      "After joining the string by '|' : Python| program| to| split| and| join| a| string\n"
     ]
    }
   ],
   "source": [
    "#Python program to split and join a string\n",
    "string3 = \"Python program to split and join a string\"\n",
    "print(\"After splitting the string : \",string3.split())\n",
    "strg = \"| \".join(string3.split())\n",
    "print(\"After joining the string by '|' :\",strg)"
   ]
  },
  {
   "cell_type": "code",
   "execution_count": 27,
   "metadata": {},
   "outputs": [
    {
     "name": "stdout",
     "output_type": "stream",
     "text": [
      "True\n",
      "False\n"
     ]
    }
   ],
   "source": [
    "#Python to check if a given string is binary string or not\n",
    "\n",
    "def check_binary(s):\n",
    "    in_set = set(s)\n",
    "    b = {\"0\",\"1\"}\n",
    "    if in_set==b or in_set==\"0\" or in_set==\"1\":\n",
    "        return True\n",
    "    else:\n",
    "        return False\n",
    "print(check_binary(\"01010110101010\"))\n",
    "print(check_binary(\"mourya\"))\n"
   ]
  },
  {
   "cell_type": "code",
   "execution_count": 43,
   "metadata": {},
   "outputs": [
    {
     "name": "stdout",
     "output_type": "stream",
     "text": [
      "learning full stack data science in ineuron improving my skills "
     ]
    }
   ],
   "source": [
    "#Python program to find uncommon words from two Strings\n",
    "X = \"Im currently learning full stack data science in ineuron\"\n",
    "Y = \"Im currently improving my skills\"\n",
    "uncommon =[]\n",
    "X = string5.split()\n",
    "Y = string6.split()\n",
    "\n",
    "for i in X:\n",
    "    if i not in Y:\n",
    "        uncommon.append(i)\n",
    "for i in Y:\n",
    "    if i not in X:\n",
    "        uncommon.append(i)\n",
    "\n",
    "for i in uncommon:\n",
    "    print(i,end=\" \")"
   ]
  },
  {
   "cell_type": "code",
   "execution_count": 74,
   "metadata": {},
   "outputs": [
    {
     "data": {
      "text/plain": [
       "['h', 'i', 'n', 'a', 'r']"
      ]
     },
     "execution_count": 74,
     "metadata": {},
     "output_type": "execute_result"
    }
   ],
   "source": [
    "# Python program to find all duplicate characters in string\n",
    "string7 = \"chinta krishna mourya\"\n",
    "string7 = \"\".join(string7.split())\n",
    "dic = {}\n",
    "for i in string7:\n",
    "    if not i in dic:\n",
    "        dic[i]=0\n",
    "    dic[i]+=1\n",
    "\n",
    "[i for i in dic if dic[i]>1]"
   ]
  },
  {
   "cell_type": "code",
   "execution_count": 81,
   "metadata": {},
   "outputs": [
    {
     "name": "stdout",
     "output_type": "stream",
     "text": [
      "No special characters found\n",
      "Special characters are found\n"
     ]
    }
   ],
   "source": [
    "#Python Program to check if a string contains any special character\n",
    "def special(s):\n",
    "    for i in s:\n",
    "        if not (i.isalpha() or i.isdigit() or i ==\" \"):\n",
    "            return True\n",
    "    return False\n",
    "    \n",
    "\n",
    "if special(\"FUll Stack Data Science course\"):\n",
    "    print(\"Special characters are found\")\n",
    "else:\n",
    "    print(\"No special characters found\")\n",
    "\n",
    "if special(\"FUll_Stack Data Science course\"):\n",
    "    print(\"Special characters are found\")\n",
    "else:\n",
    "    print(\"No special characters found\")"
   ]
  },
  {
   "cell_type": "code",
   "execution_count": null,
   "metadata": {},
   "outputs": [],
   "source": []
  }
 ],
 "metadata": {
  "kernelspec": {
   "display_name": "Python 3",
   "language": "python",
   "name": "python3"
  },
  "language_info": {
   "codemirror_mode": {
    "name": "ipython",
    "version": 3
   },
   "file_extension": ".py",
   "mimetype": "text/x-python",
   "name": "python",
   "nbconvert_exporter": "python",
   "pygments_lexer": "ipython3",
   "version": "3.11.1 (tags/v3.11.1:a7a450f, Dec  6 2022, 19:58:39) [MSC v.1934 64 bit (AMD64)]"
  },
  "orig_nbformat": 4,
  "vscode": {
   "interpreter": {
    "hash": "c37f8387768dbf3986146d42fe4d96fc9b384a0da7362fe905d7d4ce093495c8"
   }
  }
 },
 "nbformat": 4,
 "nbformat_minor": 2
}
