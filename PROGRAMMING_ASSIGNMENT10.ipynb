{
 "cells": [
  {
   "attachments": {},
   "cell_type": "markdown",
   "metadata": {},
   "source": [
    "1. Write a Python program to find sum of elements in list?\n",
    "2. Write a Python program to Multiply all numbers in the list?\n",
    "3. Write a Python program to find smallest number in a list?\n",
    "4. Write a Python program to find largest number in a list?\n",
    "5. Write a Python program to find second largest number in a list?\n",
    "6. Write a Python program to find N largest elements from a list?\n",
    "7. Write a Python program to print even numbers in a list?\n",
    "8. Write a Python program to print odd numbers in a List?\n",
    "9. Write a Python program to Remove empty List from List?\n",
    "10. Write a Python program to Cloning or Copying a list?\n",
    "11. Write a Python program to Count occurrences of an element in a list?"
   ]
  },
  {
   "cell_type": "code",
   "execution_count": 4,
   "metadata": {},
   "outputs": [
    {
     "name": "stdout",
     "output_type": "stream",
     "text": [
      "Sum of elemnts in list :  45\n"
     ]
    }
   ],
   "source": [
    "#SUM OF ELEMENTS IN THE LIST\n",
    "\n",
    "l = [1,2,3,4,5,6,7,8,9]\n",
    "s=0\n",
    "for i in l:\n",
    "    s= s+i\n",
    "print(\"Sum of elemnts in list : \",s)"
   ]
  },
  {
   "cell_type": "code",
   "execution_count": 7,
   "metadata": {},
   "outputs": [
    {
     "name": "stdout",
     "output_type": "stream",
     "text": [
      "Multiplication of elements of the list :  480\n"
     ]
    }
   ],
   "source": [
    "#Multiply all numbers in list\n",
    "l1= [2,4,6,10]\n",
    "prod = 1\n",
    "for i in l1:\n",
    "    prod = prod*i\n",
    "print(\"Multiplication of elements of the list : \",prod)"
   ]
  },
  {
   "cell_type": "code",
   "execution_count": 11,
   "metadata": {},
   "outputs": [
    {
     "name": "stdout",
     "output_type": "stream",
     "text": [
      "Smallest element in the list :  257\n"
     ]
    }
   ],
   "source": [
    "#smallest number in a list\n",
    "l3 = [345,432,7886,12334,257]\n",
    "small = l3[0]\n",
    "for i in range(len(l3)):\n",
    "    if l3[i]<small:\n",
    "        small = l3[i]\n",
    "print(\"Smallest element in the list : \",small)"
   ]
  },
  {
   "cell_type": "code",
   "execution_count": 12,
   "metadata": {},
   "outputs": [
    {
     "data": {
      "text/plain": [
       "12334"
      ]
     },
     "execution_count": 12,
     "metadata": {},
     "output_type": "execute_result"
    }
   ],
   "source": [
    "#Largest element in the list\n",
    "def largest(n):\n",
    "    large = n[0]\n",
    "    for i in range(len(n)):\n",
    "        if n[i]>large:\n",
    "            large= n[i]\n",
    "    return large\n",
    "largest(l3)"
   ]
  },
  {
   "cell_type": "code",
   "execution_count": 18,
   "metadata": {},
   "outputs": [
    {
     "name": "stdout",
     "output_type": "stream",
     "text": [
      "6\n",
      "76\n"
     ]
    }
   ],
   "source": [
    "#second largest number in a list\n",
    "def second_large(n):\n",
    "    n= list(set(n))\n",
    "    n.sort(reverse= True)\n",
    "    return n[1]\n",
    "\n",
    "print(second_large([1,2,5,8,2,6,8]))\n",
    "print(second_large([56,89,76,32]))\n",
    "\n"
   ]
  },
  {
   "cell_type": "code",
   "execution_count": 32,
   "metadata": {},
   "outputs": [
    {
     "name": "stdout",
     "output_type": "stream",
     "text": [
      "Top 3 largest lements in the list :\n",
      "9,8,7,"
     ]
    }
   ],
   "source": [
    "#N largest elements from a list\n",
    "def n_large(n,l):\n",
    "    l= list(set(l))\n",
    "    l.sort(reverse= True)\n",
    "    print(\"Top {} largest lements in the list :\".format(n))\n",
    "    for i in range(n):\n",
    "        print(l[i],end=\",\")\n",
    "\n",
    "n_large(3,[1,2,3,4,5,6,7,8,9])"
   ]
  },
  {
   "cell_type": "code",
   "execution_count": 34,
   "metadata": {},
   "outputs": [
    {
     "name": "stdout",
     "output_type": "stream",
     "text": [
      "2 4 6 8 0 "
     ]
    }
   ],
   "source": [
    "#print even numbers in a list\n",
    "list_sample= [1,2,3,4,5,6,7,8,9,0]\n",
    "for i in (list_sample):\n",
    "    if i%2==0:\n",
    "        print(i,end=\" \")"
   ]
  },
  {
   "cell_type": "code",
   "execution_count": 35,
   "metadata": {},
   "outputs": [
    {
     "name": "stdout",
     "output_type": "stream",
     "text": [
      "1 3 5 7 9 "
     ]
    }
   ],
   "source": [
    "#print odd numbers in a list\n",
    "list_sample= [1,2,3,4,5,6,7,8,9,0]\n",
    "for i in (list_sample):\n",
    "    if i%2!=0:\n",
    "        print(i,end=\" \")"
   ]
  },
  {
   "cell_type": "code",
   "execution_count": 41,
   "metadata": {},
   "outputs": [
    {
     "data": {
      "text/plain": [
       "[1, 23, 5, 'Mourya', 25.3]"
      ]
     },
     "execution_count": 41,
     "metadata": {},
     "output_type": "execute_result"
    }
   ],
   "source": [
    "#Remove empty List from List\n",
    "L = [1,23,5,\"Mourya\",[],25.3,[]]\n",
    "new_list = [i for i in L if i!=[]]\n",
    "        \n",
    "L= new_list\n",
    "L"
   ]
  },
  {
   "cell_type": "code",
   "execution_count": 42,
   "metadata": {},
   "outputs": [
    {
     "data": {
      "text/plain": [
       "[1, 2, 3, 4, 6, 7]"
      ]
     },
     "execution_count": 42,
     "metadata": {},
     "output_type": "execute_result"
    }
   ],
   "source": [
    "#Python program to Cloning or Copying a list\n",
    "\n",
    "Original_list = [1,2,3,4,6,7]\n",
    "clone_list = [i for i in Original_list]\n",
    "\n",
    "clone_list"
   ]
  },
  {
   "cell_type": "code",
   "execution_count": 58,
   "metadata": {},
   "outputs": [
    {
     "name": "stdout",
     "output_type": "stream",
     "text": [
      "Frequency of element 1 : 2\n",
      "Frequency of element 2 : 1\n",
      "Frequency of element 3 : 2\n",
      "Frequency of element 4 : 2\n",
      "Frequency of element 5 : 3\n",
      "Frequency of element 6 : 1\n"
     ]
    }
   ],
   "source": [
    "#Python program to Count occurrences of an element in a list\n",
    "X= [1,2,3,4,5,6,5,4,5,3,1]\n",
    "dic = {}\n",
    "for i in X:\n",
    "    if not i in dic:\n",
    "        dic[i]=0\n",
    "    dic[i]+=1\n",
    "\n",
    "for i in dic:\n",
    "    print(\"Frequency of element {} : {}\".format(i,dic[i]))\n",
    "\n"
   ]
  }
 ],
 "metadata": {
  "kernelspec": {
   "display_name": "Python 3",
   "language": "python",
   "name": "python3"
  },
  "language_info": {
   "codemirror_mode": {
    "name": "ipython",
    "version": 3
   },
   "file_extension": ".py",
   "mimetype": "text/x-python",
   "name": "python",
   "nbconvert_exporter": "python",
   "pygments_lexer": "ipython3",
   "version": "3.11.1"
  },
  "orig_nbformat": 4,
  "vscode": {
   "interpreter": {
    "hash": "c37f8387768dbf3986146d42fe4d96fc9b384a0da7362fe905d7d4ce093495c8"
   }
  }
 },
 "nbformat": 4,
 "nbformat_minor": 2
}
