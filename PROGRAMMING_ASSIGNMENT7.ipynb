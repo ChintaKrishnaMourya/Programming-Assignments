{
 "cells": [
  {
   "attachments": {},
   "cell_type": "markdown",
   "metadata": {},
   "source": [
    "1. Write a Python Program to find sum of array?\n",
    "2. Write a Python Program to find largest element in an array?\n",
    "3. Write a Python Program for array rotation?\n",
    "4. Write a Python Program to Split the array and add the first part to the end?\n",
    "5. Write a Python Program to check if given array is Monotonic?"
   ]
  },
  {
   "attachments": {},
   "cell_type": "markdown",
   "metadata": {},
   "source": [
    "### Python Program to find sum of array"
   ]
  },
  {
   "cell_type": "code",
   "execution_count": 4,
   "metadata": {},
   "outputs": [
    {
     "name": "stdout",
     "output_type": "stream",
     "text": [
      "Given array :  [1, 2, 3, 4, 5, 6]\n"
     ]
    },
    {
     "data": {
      "text/plain": [
       "21"
      ]
     },
     "execution_count": 4,
     "metadata": {},
     "output_type": "execute_result"
    }
   ],
   "source": [
    "def sum_arr(n):\n",
    "    print(\"Given array : \",n)\n",
    "    s = 0\n",
    "    for i in n:\n",
    "        s= s+i\n",
    "    return s\n",
    "\n",
    "sum_arr([1,2,3,4,5,6])"
   ]
  },
  {
   "attachments": {},
   "cell_type": "markdown",
   "metadata": {},
   "source": [
    "### Python Program to find largest element in an array"
   ]
  },
  {
   "cell_type": "code",
   "execution_count": 7,
   "metadata": {},
   "outputs": [
    {
     "data": {
      "text/plain": [
       "43"
      ]
     },
     "execution_count": 7,
     "metadata": {},
     "output_type": "execute_result"
    }
   ],
   "source": [
    "def largest(n):\n",
    "    max = n[0]\n",
    "    for i in range(1,len(n)):\n",
    "        if n[i]> max:\n",
    "            max= n[i]\n",
    "    return max\n",
    "\n",
    "largest([23,5,43,32,6,4])"
   ]
  },
  {
   "attachments": {},
   "cell_type": "markdown",
   "metadata": {},
   "source": [
    "### Python Program for array rotation"
   ]
  },
  {
   "cell_type": "code",
   "execution_count": 14,
   "metadata": {},
   "outputs": [
    {
     "name": "stdout",
     "output_type": "stream",
     "text": [
      "Original Array  [1, 2, 3, 4, 5]\n",
      "Rotations :  3\n",
      "After Rotation : \n",
      "[4, 5, 1, 2, 3]\n"
     ]
    }
   ],
   "source": [
    "arr = [1,2,3,4,5]\n",
    "print(\"Original Array \",arr)\n",
    "n = 3\n",
    "print(\"Rotations : \",n)\n",
    "for i in range(0,n):\n",
    "    f = arr[0]\n",
    "    for j in range(0,len(arr)-1):\n",
    "        arr[j]=arr[j+1]\n",
    "    arr[len(arr)-1]= f\n",
    "print(\"After Rotation : \")\n",
    "print(arr)"
   ]
  },
  {
   "attachments": {},
   "cell_type": "markdown",
   "metadata": {},
   "source": [
    "### Python Program to Split the array and add the first part to the end"
   ]
  },
  {
   "cell_type": "code",
   "execution_count": 21,
   "metadata": {},
   "outputs": [
    {
     "data": {
      "text/plain": [
       "[3, 4, 5, 6, 1, 2]"
      ]
     },
     "execution_count": 21,
     "metadata": {},
     "output_type": "execute_result"
    }
   ],
   "source": [
    "arr = [1,2,3,4,5,6]\n",
    "n = 2 #number of elements to be splitted\n",
    "new_arr = arr[n:]+arr[:n]\n",
    "new_arr"
   ]
  },
  {
   "attachments": {},
   "cell_type": "markdown",
   "metadata": {},
   "source": [
    "### using pop"
   ]
  },
  {
   "cell_type": "code",
   "execution_count": 25,
   "metadata": {},
   "outputs": [
    {
     "data": {
      "text/plain": [
       "[3, 4, 5, 6, 1, 2]"
      ]
     },
     "execution_count": 25,
     "metadata": {},
     "output_type": "execute_result"
    }
   ],
   "source": [
    "arr = [1,2,3,4,5,6]\n",
    "n =2\n",
    "for i in range(n):\n",
    "   m = arr.pop(0)\n",
    "   arr.append(m)\n",
    "arr\n"
   ]
  },
  {
   "attachments": {},
   "cell_type": "markdown",
   "metadata": {},
   "source": [
    "### Python Program to check if given array is Monotonic"
   ]
  },
  {
   "cell_type": "code",
   "execution_count": 45,
   "metadata": {},
   "outputs": [
    {
     "name": "stdout",
     "output_type": "stream",
     "text": [
      "True\n",
      "False\n",
      "True\n"
     ]
    }
   ],
   "source": [
    "def monotone(n):\n",
    "    if len(n)==1:\n",
    "        return True\n",
    "    else:\n",
    "        if all(n[i]<=n[i+1] for i in range(0,len(n)-1) or n[i]>=[n+i] for i in range(0,len(n)-1)):\n",
    "            return True\n",
    "        else:\n",
    "            return False\n",
    "print(monotone([1,2,3,4,5]))\n",
    "print(monotone([1,3,6,3,7]))\n",
    "print(monotone([5]))"
   ]
  }
 ],
 "metadata": {
  "kernelspec": {
   "display_name": "Python 3",
   "language": "python",
   "name": "python3"
  },
  "language_info": {
   "codemirror_mode": {
    "name": "ipython",
    "version": 3
   },
   "file_extension": ".py",
   "mimetype": "text/x-python",
   "name": "python",
   "nbconvert_exporter": "python",
   "pygments_lexer": "ipython3",
   "version": "3.11.1"
  },
  "orig_nbformat": 4,
  "vscode": {
   "interpreter": {
    "hash": "c37f8387768dbf3986146d42fe4d96fc9b384a0da7362fe905d7d4ce093495c8"
   }
  }
 },
 "nbformat": 4,
 "nbformat_minor": 2
}
