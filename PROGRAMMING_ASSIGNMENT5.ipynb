{
 "cells": [
  {
   "attachments": {},
   "cell_type": "markdown",
   "metadata": {},
   "source": [
    "Write a Python Program to Find LCM?\n",
    "2. Write a Python Program to Find HCF?\n",
    "3. Write a Python Program to Convert Decimal to Binary, Octal and Hexadecimal?\n",
    "4. Write a Python Program To Find ASCII value of a character?\n",
    "5. Write a Python Program to Make a Simple Calculator with 4 basic mathematical operations?"
   ]
  },
  {
   "attachments": {},
   "cell_type": "markdown",
   "metadata": {},
   "source": [
    "### Python Program to Find LCM"
   ]
  },
  {
   "cell_type": "code",
   "execution_count": 12,
   "metadata": {},
   "outputs": [
    {
     "name": "stdout",
     "output_type": "stream",
     "text": [
      "LCM of 2,3 is 6\n",
      "LCM of 11,66 is 66\n"
     ]
    }
   ],
   "source": [
    "def cal_lcm(x,y):\n",
    "    if x>y:\n",
    "        greater = x\n",
    "    else:\n",
    "        greater = y\n",
    "    while(True):\n",
    "        if greater%x==0 and greater%y==0:\n",
    "            lcm = greater\n",
    "            break\n",
    "        greater+=1\n",
    "    print(\"LCM of {},{} is {}\".format(x,y,greater))\n",
    "\n",
    "cal_lcm(2,3)\n",
    "cal_lcm(11,66)"
   ]
  },
  {
   "attachments": {},
   "cell_type": "markdown",
   "metadata": {},
   "source": [
    "### Python Program to Find HCF"
   ]
  },
  {
   "cell_type": "code",
   "execution_count": 18,
   "metadata": {},
   "outputs": [
    {
     "name": "stdout",
     "output_type": "stream",
     "text": [
      "HCF of 56,7 is 7\n"
     ]
    }
   ],
   "source": [
    "def cal_hcf(x,y):\n",
    "    if x>y:\n",
    "        small = x\n",
    "    else:\n",
    "        small = y\n",
    "    for i in range(1,small+1):\n",
    "        if ((x%i==0) and (y%i==0)):\n",
    "            hcf = i\n",
    "    return hcf\n",
    "\n",
    "x=56\n",
    "y=7\n",
    "print(\"HCF of {},{} is {}\".format(x,y,cal_hcf(x,y)))"
   ]
  },
  {
   "attachments": {},
   "cell_type": "markdown",
   "metadata": {},
   "source": [
    "### Python Program to Convert Decimal to Binary, Octal and Hexadecimal"
   ]
  },
  {
   "cell_type": "code",
   "execution_count": 22,
   "metadata": {},
   "outputs": [
    {
     "name": "stdout",
     "output_type": "stream",
     "text": [
      "Given Decimal is  334\n",
      "After converting : \n",
      "Binary = 0b101001110, Octal = 0o516, Hexadecimal = 0x14e\n"
     ]
    }
   ],
   "source": [
    "#A number with the prefix 0b is considered binary, 0o is considered octal and 0x as hexadecimal\n",
    "def convert(x):\n",
    "    print(\"Given Decimal is \",x)\n",
    "    x= int(x)\n",
    "    binary = bin(x)\n",
    "    octal = oct(x)\n",
    "    hexadecimal = hex(x)\n",
    "    print(\"After converting : \\nBinary = {}, Octal = {}, Hexadecimal = {}\".format(binary,octal,hexadecimal))\n",
    "\n",
    "convert(334)"
   ]
  },
  {
   "attachments": {},
   "cell_type": "markdown",
   "metadata": {},
   "source": [
    "### Python Program To Find ASCII value of a character"
   ]
  },
  {
   "cell_type": "code",
   "execution_count": 39,
   "metadata": {},
   "outputs": [
    {
     "name": "stdout",
     "output_type": "stream",
     "text": [
      "120\n",
      "a\n"
     ]
    }
   ],
   "source": [
    "#ASCII values for given character\n",
    "def ascii_value(val):\n",
    "    if type(val)==int:\n",
    "        return chr(val)\n",
    "    if type(val)==str:\n",
    "        return ord(val)\n",
    "\n",
    "print(ascii_value('x'))\n",
    "print(ascii_value(97))"
   ]
  },
  {
   "attachments": {},
   "cell_type": "markdown",
   "metadata": {},
   "source": [
    "### Python Program to Make a Simple Calculator with 4 basic mathematical operations"
   ]
  },
  {
   "cell_type": "code",
   "execution_count": 50,
   "metadata": {},
   "outputs": [
    {
     "name": "stdout",
     "output_type": "stream",
     "text": [
      "Sum of 56.0,7.0= 63.0\n",
      "Subtraction of 56.0,7.0= 49.0\n",
      "Multiplication of 56.0,7.0= 392.0\n",
      "Division of 56.0,7.0= 8.0\n"
     ]
    }
   ],
   "source": [
    "def calculator(x,y):\n",
    "    x= float(input(\"Enter first number\"))\n",
    "    y= float(input(\"Enter second number\"))\n",
    "    \n",
    "    addition = x+y\n",
    "    subtraction = x-y\n",
    "    multi = x*y\n",
    "    divi = x/y\n",
    "    \n",
    "    print(\"Sum of {},{}= {}\".format(x,y,addition))\n",
    "    print(\"Subtraction of {},{}= {}\".format(x,y,subtraction))\n",
    "    print(\"Multiplication of {},{}= {}\".format(x,y,multi))\n",
    "    print(\"Division of {},{}= {}\".format(x,y,divi))\n",
    "\n",
    "calculator(x,y)"
   ]
  },
  {
   "cell_type": "code",
   "execution_count": null,
   "metadata": {},
   "outputs": [],
   "source": []
  }
 ],
 "metadata": {
  "kernelspec": {
   "display_name": "Python 3",
   "language": "python",
   "name": "python3"
  },
  "language_info": {
   "codemirror_mode": {
    "name": "ipython",
    "version": 3
   },
   "file_extension": ".py",
   "mimetype": "text/x-python",
   "name": "python",
   "nbconvert_exporter": "python",
   "pygments_lexer": "ipython3",
   "version": "3.11.1"
  },
  "orig_nbformat": 4,
  "vscode": {
   "interpreter": {
    "hash": "c37f8387768dbf3986146d42fe4d96fc9b384a0da7362fe905d7d4ce093495c8"
   }
  }
 },
 "nbformat": 4,
 "nbformat_minor": 2
}
