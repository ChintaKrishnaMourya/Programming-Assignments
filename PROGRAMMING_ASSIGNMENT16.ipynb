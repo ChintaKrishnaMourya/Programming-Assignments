{
 "cells": [
  {
   "attachments": {},
   "cell_type": "markdown",
   "metadata": {},
   "source": [
    "Question1. Write a function that stutters a word as if someone is struggling to read it. The\n",
    "first two letters are repeated twice with an ellipsis ... and space after each, and then the\n",
    "word is pronounced with a question mark ?.\n",
    "Examples\n",
    "stutter(&quot;incredible&quot;) ➞ &quot;in... in... incredible?&quot;\n",
    "stutter(&quot;enthusiastic&quot;) ➞ &quot;en... en... enthusiastic?&quot;\n",
    "stutter(&quot;outstanding&quot;) ➞ &quot;ou... ou... outstanding?&quot;\n",
    "\n",
    "Hint :- Assume all input is in lower case and at least two characters long."
   ]
  },
  {
   "cell_type": "code",
   "execution_count": 51,
   "metadata": {},
   "outputs": [
    {
     "name": "stdout",
     "output_type": "stream",
     "text": [
      "\"in... in... incredible?\"\n"
     ]
    }
   ],
   "source": [
    "def stutter(word):\n",
    "   print('\"{0}... {0}... {1}?\"'.format(word[:2],word))    \n",
    "\n",
    "stutter(\"incredible\")\n",
    "         "
   ]
  },
  {
   "cell_type": "code",
   "execution_count": 52,
   "metadata": {},
   "outputs": [
    {
     "name": "stdout",
     "output_type": "stream",
     "text": [
      "\"en... en... enthusiastic?\"\n"
     ]
    }
   ],
   "source": [
    "stutter(\"enthusiastic\")\n"
   ]
  },
  {
   "attachments": {},
   "cell_type": "markdown",
   "metadata": {},
   "source": [
    "Question 2.Create a function that takes an angle in radians and returns the corresponding\n",
    "angle in degrees rounded to one decimal place.\n",
    "Examples\n",
    "radians_to_degrees(1) ➞ 57.3\n",
    "radians_to_degrees(20) ➞ 1145.9\n",
    "radians_to_degrees(50) ➞ 2864.8"
   ]
  },
  {
   "cell_type": "code",
   "execution_count": 37,
   "metadata": {},
   "outputs": [
    {
     "data": {
      "text/plain": [
       "179.91"
      ]
     },
     "execution_count": 37,
     "metadata": {},
     "output_type": "execute_result"
    }
   ],
   "source": [
    "import math\n",
    "pi = math.pi\n",
    "def radians_to_degress(rad):\n",
    "    deg = rad*180/pi\n",
    "    return round(deg,2)\n",
    "\n",
    "radians_to_degress(3.14)"
   ]
  },
  {
   "attachments": {},
   "cell_type": "markdown",
   "metadata": {},
   "source": [
    "Question 3. In this challenge, establish if a given integer num is a Curzon number. If 1 plus\n",
    "2 elevated to num is exactly divisible by 1 plus 2 multiplied by num, then num is a Curzon\n",
    "number.\n",
    "Given a non-negative integer num, implement a function that returns True if num is a Curzon\n",
    "number, or False otherwise.\n",
    "Examples\n",
    "is_curzon(5) ➞ True\n",
    "2 ** 5 + 1 = 33\n",
    "2 * 5 + 1 = 11\n",
    "33 is a multiple of 11"
   ]
  },
  {
   "cell_type": "code",
   "execution_count": 38,
   "metadata": {},
   "outputs": [
    {
     "name": "stdout",
     "output_type": "stream",
     "text": [
      "True\n",
      "False\n",
      "True\n"
     ]
    }
   ],
   "source": [
    "def is_curzon(cur):\n",
    "    c1 = (2**cur)+1\n",
    "    c2 = (2*cur)+1\n",
    "    if c1%c2==0:\n",
    "        return True\n",
    "    else:\n",
    "        return False\n",
    "print(is_curzon(5))\n",
    "print(is_curzon(10))\n",
    "print(is_curzon(14))"
   ]
  },
  {
   "attachments": {},
   "cell_type": "markdown",
   "metadata": {},
   "source": [
    "Question 4.Given the side length x find the area of a hexagon."
   ]
  },
  {
   "cell_type": "code",
   "execution_count": 46,
   "metadata": {},
   "outputs": [
    {
     "name": "stdout",
     "output_type": "stream",
     "text": [
      "2.6\n",
      "10.39\n",
      "23.38\n"
     ]
    }
   ],
   "source": [
    "def area_of_hexagon(side):\n",
    "    area = ((3)*(3**0.5)*(side**2))/2\n",
    "    return round(area,2)\n",
    "\n",
    "print(area_of_hexagon(1))\n",
    "print(area_of_hexagon(2))\n",
    "print(area_of_hexagon(3))"
   ]
  },
  {
   "attachments": {},
   "cell_type": "markdown",
   "metadata": {},
   "source": [
    "Question 5. Create a function that returns a base-2 (binary) representation of a base-10\n",
    "(decimal) string number. To convert is simple: ((2) means base-2 and (10) means base-10)\n",
    "010101001(2) = 1 + 8 + 32 + 128.\n",
    "Going from right to left, the value of the most right bit is 1, now from that every bit to the left\n",
    "will be x2 the value, value of an 8 bit binary numbers are (256, 128, 64, 32, 16, 8, 4, 2, 1).\n",
    "Examples\n",
    "binary(1) ➞ &quot;1&quot;\n",
    " 1*1 = 1\n",
    "binary(5) ➞ &quot;101&quot;\n",
    " 1*1 + 1*4 = 5\n",
    "binary(10) ➞ &quot;1010&quot;\n",
    " 1*2 + 1*8 = 10"
   ]
  },
  {
   "cell_type": "code",
   "execution_count": 61,
   "metadata": {},
   "outputs": [],
   "source": [
    "def binary(deci):\n",
    "    binary = \"\"\n",
    "    while deci>0:\n",
    "        binary = str(deci%2) + binary\n",
    "        deci = deci//2\n",
    "    return binary"
   ]
  },
  {
   "cell_type": "code",
   "execution_count": 66,
   "metadata": {},
   "outputs": [
    {
     "data": {
      "text/plain": [
       "'1100'"
      ]
     },
     "execution_count": 66,
     "metadata": {},
     "output_type": "execute_result"
    }
   ],
   "source": [
    "binary(12)"
   ]
  },
  {
   "cell_type": "code",
   "execution_count": null,
   "metadata": {},
   "outputs": [],
   "source": []
  }
 ],
 "metadata": {
  "kernelspec": {
   "display_name": "Python 3",
   "language": "python",
   "name": "python3"
  },
  "language_info": {
   "codemirror_mode": {
    "name": "ipython",
    "version": 3
   },
   "file_extension": ".py",
   "mimetype": "text/x-python",
   "name": "python",
   "nbconvert_exporter": "python",
   "pygments_lexer": "ipython3",
   "version": "3.11.1"
  },
  "orig_nbformat": 4,
  "vscode": {
   "interpreter": {
    "hash": "c37f8387768dbf3986146d42fe4d96fc9b384a0da7362fe905d7d4ce093495c8"
   }
  }
 },
 "nbformat": 4,
 "nbformat_minor": 2
}
