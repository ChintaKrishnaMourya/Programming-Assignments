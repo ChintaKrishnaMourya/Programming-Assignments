{
 "cells": [
  {
   "attachments": {},
   "cell_type": "markdown",
   "metadata": {},
   "source": [
    "1. Write a Python program to check if the given number is a Disarium Number?\n",
    "2. Write a Python program to print all disarium numbers between 1 to 100?\n",
    "3. Write a Python program to check if the given number is Happy Number?\n",
    "4. Write a Python program to print all happy numbers between 1 and 100?\n",
    "5. Write a Python program to determine whether the given number is a Harshad Number?\n",
    "6. Write a Python program to print all pronic numbers between 1 and 100?"
   ]
  },
  {
   "attachments": {},
   "cell_type": "markdown",
   "metadata": {},
   "source": [
    "### Python program to check if the given number is a Disarium Number"
   ]
  },
  {
   "cell_type": "code",
   "execution_count": 16,
   "metadata": {},
   "outputs": [
    {
     "name": "stdout",
     "output_type": "stream",
     "text": [
      "True\n",
      "False\n",
      "True\n"
     ]
    }
   ],
   "source": [
    "# example : 175 = 1^1 + 7^2 + 5^3\n",
    "def disarium(n):\n",
    "    n= str(n)\n",
    "    s=0\n",
    "    for i in range(0,len(n)):\n",
    "        s= int(n[i])**(i+1) +s\n",
    "    if s== int(n):\n",
    "        return True\n",
    "    else:\n",
    "        return False\n",
    "\n",
    "print(disarium(175))\n",
    "print(disarium(90))\n",
    "print(disarium(89))"
   ]
  },
  {
   "attachments": {},
   "cell_type": "markdown",
   "metadata": {},
   "source": [
    "### Python program to print all disarium numbers between 1 to 100"
   ]
  },
  {
   "cell_type": "code",
   "execution_count": 19,
   "metadata": {},
   "outputs": [
    {
     "name": "stdout",
     "output_type": "stream",
     "text": [
      "1\n",
      "2\n",
      "3\n",
      "4\n",
      "5\n",
      "6\n",
      "7\n",
      "8\n",
      "9\n",
      "89\n"
     ]
    }
   ],
   "source": [
    "def disarium_numbers(a,b):\n",
    "    for i in range(a,b):\n",
    "        if disarium(i):\n",
    "            print(i)\n",
    "disarium_numbers(1,100)"
   ]
  },
  {
   "attachments": {},
   "cell_type": "markdown",
   "metadata": {},
   "source": [
    "### Python program to check if the given number is Happy Number"
   ]
  },
  {
   "cell_type": "code",
   "execution_count": 46,
   "metadata": {},
   "outputs": [],
   "source": [
    "def happy(n):\n",
    "    s= set()\n",
    "    while n!=1:\n",
    "        n= sum(int(i)**2 for i in str(n))\n",
    "        if n in s:\n",
    "            return False\n",
    "        s.add(n)\n",
    "    return True\n"
   ]
  },
  {
   "cell_type": "code",
   "execution_count": 48,
   "metadata": {},
   "outputs": [
    {
     "data": {
      "text/plain": [
       "False"
      ]
     },
     "execution_count": 48,
     "metadata": {},
     "output_type": "execute_result"
    }
   ],
   "source": [
    "happy(17)"
   ]
  },
  {
   "attachments": {},
   "cell_type": "markdown",
   "metadata": {},
   "source": [
    "### Python program to print all happy numbers between 1 and 100"
   ]
  },
  {
   "cell_type": "code",
   "execution_count": 52,
   "metadata": {},
   "outputs": [
    {
     "name": "stdout",
     "output_type": "stream",
     "text": [
      "1 1\n",
      "2 7\n",
      "3 10\n",
      "4 13\n",
      "5 19\n",
      "6 23\n",
      "7 28\n",
      "8 31\n",
      "9 32\n",
      "10 44\n",
      "11 49\n",
      "12 68\n",
      "13 70\n",
      "14 79\n",
      "15 82\n",
      "16 86\n",
      "17 91\n",
      "18 94\n",
      "19 97\n"
     ]
    }
   ],
   "source": [
    "c= 0\n",
    "for i in range(1,100):\n",
    "    if happy(i):\n",
    "        c+=1\n",
    "        print(c, i)"
   ]
  },
  {
   "attachments": {},
   "cell_type": "markdown",
   "metadata": {},
   "source": [
    "### Python program to determine whether the given number is a Harshad Number"
   ]
  },
  {
   "cell_type": "code",
   "execution_count": 57,
   "metadata": {},
   "outputs": [
    {
     "name": "stdout",
     "output_type": "stream",
     "text": [
      "False\n",
      "True\n"
     ]
    }
   ],
   "source": [
    "def harshad(n):\n",
    "    if n>=0:\n",
    "        n= str(n)\n",
    "        s= 0\n",
    "        for i in n:\n",
    "            s= int(i)+s\n",
    "        if int(n)%s==0:\n",
    "            return True\n",
    "        else:\n",
    "            return False\n",
    "\n",
    "print(harshad(15))\n",
    "print(harshad(1729))\n"
   ]
  },
  {
   "attachments": {},
   "cell_type": "markdown",
   "metadata": {},
   "source": [
    "### Python program to print all pronic numbers between 1 and 100"
   ]
  },
  {
   "cell_type": "code",
   "execution_count": 61,
   "metadata": {},
   "outputs": [
    {
     "name": "stdout",
     "output_type": "stream",
     "text": [
      "2,6,12,20,30,42,56,72,90,"
     ]
    }
   ],
   "source": [
    "def pronic(n):\n",
    "    i= 0\n",
    "    while i*(i-1)<=n:\n",
    "        if i*(i-1)== n:\n",
    "            return True\n",
    "        i+=1\n",
    "    return False\n",
    "\n",
    "for i in range(1,100):\n",
    "    if pronic(i):\n",
    "        print(i,end=\",\")\n"
   ]
  },
  {
   "cell_type": "code",
   "execution_count": null,
   "metadata": {},
   "outputs": [],
   "source": []
  }
 ],
 "metadata": {
  "kernelspec": {
   "display_name": "Python 3",
   "language": "python",
   "name": "python3"
  },
  "language_info": {
   "codemirror_mode": {
    "name": "ipython",
    "version": 3
   },
   "file_extension": ".py",
   "mimetype": "text/x-python",
   "name": "python",
   "nbconvert_exporter": "python",
   "pygments_lexer": "ipython3",
   "version": "3.11.1"
  },
  "orig_nbformat": 4,
  "vscode": {
   "interpreter": {
    "hash": "c37f8387768dbf3986146d42fe4d96fc9b384a0da7362fe905d7d4ce093495c8"
   }
  }
 },
 "nbformat": 4,
 "nbformat_minor": 2
}
